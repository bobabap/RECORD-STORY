{
  "cells": [
    {
      "cell_type": "markdown",
      "metadata": {
        "id": "view-in-github",
        "colab_type": "text"
      },
      "source": [
        "<a href=\"https://colab.research.google.com/github/bobabap/RECORD-STORY/blob/main/n111a_eda_ipynb_%5B1%EC%B0%A8_%EC%A0%9C%EC%B6%9C%5D.ipynb\" target=\"_parent\"><img src=\"https://colab.research.google.com/assets/colab-badge.svg\" alt=\"Open In Colab\"/></a>"
      ]
    },
    {
      "cell_type": "markdown",
      "metadata": {
        "id": "MSnsTgZLKO72"
      },
      "source": [
        "<img src='https://i.imgur.com/RDAD11M.png' width = '200' align = 'right'>\n",
        "\n",
        "## *DATA SCIENCE / SECTION 1 / SPRINT 1 / NOTE 1*\n",
        "\n",
        "---\n",
        "\n",
        "# 📝 Assignment\n",
        "\n"
      ]
    },
    {
      "cell_type": "markdown",
      "metadata": {
        "id": "qoR8E-T2TYPd"
      },
      "source": [
        "## 1.데이터셋 불러오기 연습\n",
        "\n",
        "다음 url에서 엑셀 파일을 불러오세요. (pandas excel)\n",
        "\n",
        "<https://ds-lecture-data.s3.ap-northeast-2.amazonaws.com/stocks/Travel.xlsx>\n",
        "\n",
        "  - 데이터셋 변수의 이름은 `df1`, `df2`로 저장하세요.\n",
        "  - row가 아닌 column에 '매출액', '영업이익' 이 가도록 데이터를 transpose 하세요.\n",
        "  - 이후 아래 링크를 참조하여 첫번째 row를 column name으로 설정하세요.\n",
        "\n",
        "<https://stackoverflow.com/questions/31328861/python-pandas-replacing-header-with-top-row>\n",
        "\n",
        "- 파일은 2개의 시트로 구성되어 있으며 각각 이름은 `008770`, `035250` 입니다.\n",
        "\n"
      ]
    },
    {
      "cell_type": "code",
      "execution_count": null,
      "metadata": {
        "id": "wMxnu2SmTS8Z",
        "colab": {
          "base_uri": "https://localhost:8080/"
        },
        "outputId": "c2ecc8da-d45b-48a3-ebbc-a61615ab67b9"
      },
      "outputs": [
        {
          "output_type": "stream",
          "name": "stdout",
          "text": [
            "주요재무정보                  매출액 영업이익 영업이익(발표기준) 세전계속사업이익 당기순이익 당기순이익(지배)  \\\n",
            "2019/09\\n(IFRS연결)     14753  574        574      376   274       277   \n",
            "2019/12\\n(IFRS연결)     15440  776        776      538   380       380   \n",
            "2020/03\\n(IFRS연결)      9437 -668       -668     -925  -736      -736   \n",
            "2020/06\\n(IFRS연결)      5230 -634       -634     -819  -677      -678   \n",
            "2020/09\\n(IFRS연결)      8795 -198       -198     -366  -285      -285   \n",
            "2020/12(E)\\n(IFRS연결)   9980   50        NaN     -109  -100      -100   \n",
            "2021/03(E)\\n(IFRS연결)   9761  144        NaN       14    71        53   \n",
            "2021/06(E)\\n(IFRS연결)   9820  265        NaN      172   214       123   \n",
            "\n",
            "주요재무정보               당기순이익(비지배)   자산총계   부채총계  자본총계 자본총계(지배) 자본총계(비지배)   자본금  \\\n",
            "2019/09\\n(IFRS연결)            -3  37747  28854  8893     8889         4  2000   \n",
            "2019/12\\n(IFRS연결)             0  35273  26077  9195     9192         4  2000   \n",
            "2020/03\\n(IFRS연결)             0  33188  24813  8375     8371         4  2000   \n",
            "2020/06\\n(IFRS연결)             1  33039  25364  7676     7671         5  2000   \n",
            "2020/09\\n(IFRS연결)             0  32683  25318  7365     7360         5  2000   \n",
            "2020/12(E)\\n(IFRS연결)        NaN  32388  25171  7216     7263       NaN  2000   \n",
            "2021/03(E)\\n(IFRS연결)        NaN    NaN    NaN   NaN      NaN       NaN   NaN   \n",
            "2021/06(E)\\n(IFRS연결)        NaN    NaN    NaN   NaN      NaN       NaN   NaN   \n",
            "\n",
            "주요재무정보               영업활동현금흐름 투자활동현금흐름 재무활동현금흐름 CAPEX   FCF 이자발생부채  영업이익률  \\\n",
            "2019/09\\n(IFRS연결)        1652     -284     -900   159  1493  19035   3.89   \n",
            "2019/12\\n(IFRS연결)        -480     -208     1230   109  -589  15615   5.03   \n",
            "2020/03\\n(IFRS연결)       -4525     -237     1288   155 -4680  17505  -7.08   \n",
            "2020/06\\n(IFRS연결)         879     -856      448    90   789  18933 -12.13   \n",
            "2020/09\\n(IFRS연결)        3104    -1388     -882   129  2975  17755  -2.25   \n",
            "2020/12(E)\\n(IFRS연결)      NaN      NaN      NaN   NaN   NaN    NaN    0.5   \n",
            "2021/03(E)\\n(IFRS연결)      NaN      NaN      NaN   NaN   NaN    NaN   1.47   \n",
            "2021/06(E)\\n(IFRS연결)      NaN      NaN      NaN   NaN   NaN    NaN    2.7   \n",
            "\n",
            "주요재무정보                 순이익률 ROE(%) ROA(%)    부채비율   자본유보율 EPS(원) PER(배)  \\\n",
            "2019/09\\n(IFRS연결)      1.86  13.18   3.62  324.45   395.1    692  31.19   \n",
            "2019/12\\n(IFRS연결)      2.46  20.16   5.81  283.59  411.78    950   21.4   \n",
            "2020/03\\n(IFRS연결)      -7.8   5.39   1.25  296.28  368.36  -1839  63.76   \n",
            "2020/06\\n(IFRS연결)    -12.95  -9.31  -2.14  330.45  334.46  -1695    NaN   \n",
            "2020/09\\n(IFRS연결)     -3.24 -16.22  -3.74  343.77  320.21   -712    NaN   \n",
            "2020/12(E)\\n(IFRS연결)  -1.01    NaN    NaN  348.79     NaN   -251    NaN   \n",
            "2021/03(E)\\n(IFRS연결)   0.73    NaN    NaN     NaN     NaN    133    NaN   \n",
            "2021/06(E)\\n(IFRS연결)   2.18    NaN    NaN     NaN     NaN    308    NaN   \n",
            "\n",
            "주요재무정보               BPS(원) PBR(배) 현금DPS(원) 현금배당수익률 현금배당성향(%)  \n",
            "2019/09\\n(IFRS연결)     23484   3.67        0     NaN         0  \n",
            "2019/12\\n(IFRS연결)     24282   3.74      350     NaN     34.94  \n",
            "2020/03\\n(IFRS연결)     22114   3.19      NaN     NaN         0  \n",
            "2020/06\\n(IFRS연결)     20265    3.5      NaN     NaN         0  \n",
            "2020/09\\n(IFRS연결)     19444   3.91      NaN     NaN       NaN  \n",
            "2020/12(E)\\n(IFRS연결)  19187   4.22      NaN     NaN       NaN  \n",
            "2021/03(E)\\n(IFRS연결)    NaN    NaN      NaN     NaN       NaN  \n",
            "2021/06(E)\\n(IFRS연결)    NaN    NaN      NaN     NaN       NaN  \n",
            "----------------------------------------------------\n",
            "주요재무정보                 매출액  영업이익 영업이익(발표기준) 세전계속사업이익 당기순이익 당기순이익(지배)  \\\n",
            "2019/09\\n(IFRS연결)     4055  1392       1392     1554  1286      1286   \n",
            "2019/12\\n(IFRS연결)     3728   641        641      769   526       526   \n",
            "2020/03\\n(IFRS연결)     2360 -1868      -1868    -2204 -1561     -1561   \n",
            "2020/06\\n(IFRS연결)      346 -1038      -1038     -723  -456      -456   \n",
            "2020/09\\n(IFRS연결)      766  -649       -649     -552  -409      -409   \n",
            "2020/12(E)\\n(IFRS연결)  1581  -434        NaN     -331  -465      -314   \n",
            "2021/03(E)\\n(IFRS연결)  1473  -187        NaN      NaN   NaN       -33   \n",
            "2021/06(E)\\n(IFRS연결)  1746   -65        NaN      NaN   NaN       135   \n",
            "\n",
            "주요재무정보               당기순이익(비지배)   자산총계  부채총계   자본총계 자본총계(지배) 자본총계(비지배)   자본금  \\\n",
            "2019/09\\n(IFRS연결)             0  41698  4781  36917    36916       NaN  1070   \n",
            "2019/12\\n(IFRS연결)             0  44381  7204  37178    37177       NaN  1070   \n",
            "2020/03\\n(IFRS연결)             0  43702  9945  33757    33757       NaN  1070   \n",
            "2020/06\\n(IFRS연결)             0  39178  5900  33277    33277         1  1070   \n",
            "2020/09\\n(IFRS연결)             0  37434  4560  32875    32874         0  1070   \n",
            "2020/12(E)\\n(IFRS연결)        NaN  38271  5998  32274    32212       NaN  1070   \n",
            "2021/03(E)\\n(IFRS연결)        NaN    NaN   NaN    NaN      NaN       NaN   NaN   \n",
            "2021/06(E)\\n(IFRS연결)        NaN    NaN   NaN    NaN      NaN       NaN   NaN   \n",
            "\n",
            "주요재무정보               영업활동현금흐름 투자활동현금흐름 재무활동현금흐름 CAPEX   FCF 이자발생부채   영업이익률  \\\n",
            "2019/09\\n(IFRS연결)         -22    -1260       -4   167  -189     48   34.33   \n",
            "2019/12\\n(IFRS연결)        2067    -2370       -4   383  1684    680   17.18   \n",
            "2020/03\\n(IFRS연결)        -684      909       -4   124  -808    651  -79.14   \n",
            "2020/06\\n(IFRS연결)       -3070     5414    -1842    82 -3153    639 -299.75   \n",
            "2020/09\\n(IFRS연결)       -1584     2327       -4   260 -1844    646  -84.68   \n",
            "2020/12(E)\\n(IFRS연결)      NaN      NaN      NaN   NaN   NaN    NaN  -27.49   \n",
            "2021/03(E)\\n(IFRS연결)      NaN      NaN      NaN   NaN   NaN    NaN   -12.7   \n",
            "2021/06(E)\\n(IFRS연결)      NaN      NaN      NaN   NaN   NaN    NaN   -3.72   \n",
            "\n",
            "주요재무정보                  순이익률 ROE(%) ROA(%)   부채비율    자본유보율 EPS(원) PER(배)  \\\n",
            "2019/09\\n(IFRS연결)      31.72   8.27    7.2  12.95  3513.86    601     21   \n",
            "2019/12\\n(IFRS연결)      14.11   9.16   7.72  19.38  3538.24    246  18.92   \n",
            "2020/03\\n(IFRS연결)     -66.15   2.21   1.75  29.46  3218.48   -730  55.53   \n",
            "2020/06\\n(IFRS연결)    -131.55  -0.59   -0.5  17.73  3173.64   -213    NaN   \n",
            "2020/09\\n(IFRS연결)     -53.33  -5.44   -4.8  13.87     3136   -191    NaN   \n",
            "2020/12(E)\\n(IFRS연결)  -29.42    NaN    NaN  18.58      NaN   -147    NaN   \n",
            "2021/03(E)\\n(IFRS연결)     NaN    NaN    NaN    NaN      NaN    -15    NaN   \n",
            "2021/06(E)\\n(IFRS연결)     NaN    NaN    NaN    NaN      NaN     63    NaN   \n",
            "\n",
            "주요재무정보               BPS(원) PBR(배) 현금DPS(원) 현금배당수익률 현금배당성향(%)  \n",
            "2019/09\\n(IFRS연결)     18209   1.62        0     NaN         0  \n",
            "2019/12\\n(IFRS연결)     18337   1.61      900     NaN    346.75  \n",
            "2020/03\\n(IFRS연결)     16650   1.19      NaN     NaN       NaN  \n",
            "2020/06\\n(IFRS연결)     16414   1.31      NaN     NaN         0  \n",
            "2020/09\\n(IFRS연결)     16215   1.33      NaN     NaN       NaN  \n",
            "2020/12(E)\\n(IFRS연결)  15888   1.46      NaN     NaN       NaN  \n",
            "2021/03(E)\\n(IFRS연결)    NaN    NaN      NaN     NaN       NaN  \n",
            "2021/06(E)\\n(IFRS연결)    NaN    NaN      NaN     NaN       NaN  \n"
          ]
        }
      ],
      "source": [
        "import pandas as pd\n",
        "import openpyxl\n",
        "pd.set_option('display.max_columns', None)\n",
        "\n",
        "pandas_excel_url = 'https://ds-lecture-data.s3.ap-northeast-2.amazonaws.com/stocks/Travel.xlsx'\n",
        "df1 = pd.read_excel(pandas_excel_url, sheet_name=0)\n",
        "df1 = df1.T\n",
        "df1.columns = df1.iloc[0]\n",
        "df1 = df1[1:]\n",
        "print(df1)\n",
        "\n",
        "\n",
        "\n",
        "print('----------------------------------------------------')\n",
        "\n",
        "\n",
        "\n",
        "df2 = pd.read_excel(pandas_excel_url, sheet_name=1)\n",
        "df2 = df2.T\n",
        "df2.columns = df2.iloc[0]\n",
        "df2 = df2[1:]\n",
        "print(df2)"
      ]
    },
    {
      "cell_type": "markdown",
      "metadata": {
        "id": "156P6ndeKojO"
      },
      "source": [
        "## 2. 데이터 확인\n",
        "\n",
        "- 데이터의 dimension을 확인하세요.\n",
        "- 데이터의 결측치가 어디에 있는지 확인 후 0으로 대체하세요.\n",
        "- 각 데이터 별로 **FCF**의 값을 barplot으로 시각화하세요.\n",
        "  - 0보다 큰 값인 셀 개수의 총합을 `num1`에, 작은 값인 셀 개수의 총합을 `num2`에 저장하세요\n"
      ]
    },
    {
      "cell_type": "code",
      "execution_count": null,
      "metadata": {
        "id": "s_ld2YJujRSb",
        "colab": {
          "base_uri": "https://localhost:8080/",
          "height": 498
        },
        "outputId": "af86b164-5b2f-4d60-ff36-a275b7646ad5"
      },
      "outputs": [
        {
          "output_type": "stream",
          "name": "stdout",
          "text": [
            "(8, 32)\n",
            "4 6\n"
          ]
        },
        {
          "output_type": "stream",
          "name": "stderr",
          "text": [
            "/usr/local/lib/python3.7/dist-packages/matplotlib/backends/backend_agg.py:214: RuntimeWarning: Glyph 50672 missing from current font.\n",
            "  font.set_text(s, 0.0, flags=flags)\n",
            "/usr/local/lib/python3.7/dist-packages/matplotlib/backends/backend_agg.py:214: RuntimeWarning: Glyph 44208 missing from current font.\n",
            "  font.set_text(s, 0.0, flags=flags)\n",
            "/usr/local/lib/python3.7/dist-packages/matplotlib/backends/backend_agg.py:183: RuntimeWarning: Glyph 50672 missing from current font.\n",
            "  font.set_text(s, 0, flags=flags)\n",
            "/usr/local/lib/python3.7/dist-packages/matplotlib/backends/backend_agg.py:183: RuntimeWarning: Glyph 44208 missing from current font.\n",
            "  font.set_text(s, 0, flags=flags)\n"
          ]
        },
        {
          "output_type": "display_data",
          "data": {
            "image/png": "[encoded data removed]",
            "text/plain": [
              "<Figure size 432x288 with 1 Axes>"
            ]
          },
          "metadata": {
            "needs_background": "light"
          }
        }
      ],
      "source": [
        "'''\n",
        "- 데이터의 dimension을 확인하세요. \n",
        "- 데이터의 결측치가 어디에 있는지 확인 후 0으로 대체하세요. \n",
        "- 각 데이터 별로 **FCF**의 값을 barplot으로 시각화하세요.\n",
        "- 0보다 큰 값인 셀 개수의 총합을 `num1`에, 작은 값인 셀 개수의 총합을 `num2`에 저장하세요'''\n",
        "import pandas as pd\n",
        "import openpyxl\n",
        "pd.set_option('display.max_columns', None)\n",
        "\n",
        "pandas_excel_url = 'https://ds-lecture-data.s3.ap-northeast-2.amazonaws.com/stocks/Travel.xlsx'\n",
        "df1 = pd.read_excel(pandas_excel_url, sheet_name=0)\n",
        "df1 = df1.T\n",
        "df1.columns = df1.iloc[0]\n",
        "df1 = df1[1:]\n",
        "\n",
        "df2 = pd.read_excel(pandas_excel_url, sheet_name=1)\n",
        "df2 = df2.T\n",
        "df2.columns = df2.iloc[0]\n",
        "df2 = df2[1:]\n",
        "\n",
        "# - 데이터의 dimension을 확인하세요.\n",
        "print(df1.shape)\n",
        "\n",
        "# 008770시트의 DataFrame 결측치 확인\n",
        "is_null = pd.DataFrame(df1.isnull())\n",
        "# print(is_null)\n",
        "\n",
        "# - 데이터의 결측치가 어디에 있는지 확인 후 0으로 대체하세요.\n",
        "is_fillna = pd.DataFrame(df1.fillna(0))\n",
        "# print(is_fillna)\n",
        "\n",
        "# - 각 데이터 별로 **FCF**의 값을 barplot으로 시각화하세요.\n",
        "df1['FCF'].plot.bar()\n",
        "df2['FCF'].plot.bar()\n",
        "\n",
        "\n",
        "# - 0보다 큰 값인 셀 개수의 총합을 `num1`에, 작은 값인 셀 개수의 총합을 `num2`에 저장하세요'''\n",
        "num1 = df1.FCF[df1['FCF'] > 0].value_counts().sum() + df2.FCF[df2['FCF'] > 0].value_counts().sum()\n",
        "num2 = df1.FCF[df1['FCF'] < 0].value_counts().sum() + df2.FCF[df2['FCF'] < 0].value_counts().sum()\n",
        "\n",
        "print(num1,num2)\n",
        "\n"
      ]
    },
    {
      "cell_type": "markdown",
      "metadata": {
        "id": "OGMOBwEBTqKS"
      },
      "source": [
        "## 3. File export\n",
        "\n",
        "- 읽었던 엑셀 파일의 내용을 2개의 csv로 각각 출력하세요. (python export csv)\n",
        "\n",
        "  - 이름은 각각 `df1.csv`, `df2.csv` 입니다.\n"
      ]
    },
    {
      "cell_type": "code",
      "execution_count": null,
      "metadata": {
        "id": "xe47NX7qk53H",
        "colab": {
          "base_uri": "https://localhost:8080/",
          "height": 479
        },
        "outputId": "e11903db-9aab-4939-d08f-7272375e649f"
      },
      "outputs": [
        {
          "output_type": "stream",
          "name": "stdout",
          "text": [
            "(8, 32)\n"
          ]
        },
        {
          "output_type": "stream",
          "name": "stderr",
          "text": [
            "/usr/local/lib/python3.7/dist-packages/matplotlib/backends/backend_agg.py:214: RuntimeWarning: Glyph 50672 missing from current font.\n",
            "  font.set_text(s, 0.0, flags=flags)\n",
            "/usr/local/lib/python3.7/dist-packages/matplotlib/backends/backend_agg.py:214: RuntimeWarning: Glyph 44208 missing from current font.\n",
            "  font.set_text(s, 0.0, flags=flags)\n",
            "/usr/local/lib/python3.7/dist-packages/matplotlib/backends/backend_agg.py:183: RuntimeWarning: Glyph 50672 missing from current font.\n",
            "  font.set_text(s, 0, flags=flags)\n",
            "/usr/local/lib/python3.7/dist-packages/matplotlib/backends/backend_agg.py:183: RuntimeWarning: Glyph 44208 missing from current font.\n",
            "  font.set_text(s, 0, flags=flags)\n"
          ]
        },
        {
          "output_type": "display_data",
          "data": {
            "image/png": "[encoded data removed]",
            "text/plain": [
              "<Figure size 432x288 with 1 Axes>"
            ]
          },
          "metadata": {
            "needs_background": "light"
          }
        }
      ],
      "source": [
        "import pandas as pd\n",
        "import openpyxl\n",
        "pd.set_option('display.max_columns', None)\n",
        "\n",
        "pandas_excel_url = 'https://ds-lecture-data.s3.ap-northeast-2.amazonaws.com/stocks/Travel.xlsx'\n",
        "df1 = pd.read_excel(pandas_excel_url, sheet_name=0)\n",
        "df1 = df1.T\n",
        "df1.columns = df1.iloc[0]\n",
        "df1 = df1[1:]\n",
        "\n",
        "df2 = pd.read_excel(pandas_excel_url, sheet_name=1)\n",
        "df2 = df2.T\n",
        "df2.columns = df2.iloc[0]\n",
        "df2 = df2[1:]\n",
        "\n",
        "# - 데이터의 dimension을 확인하세요.\n",
        "print(df1.shape)\n",
        "\n",
        "# 008770시트의 DataFrame 결측치 확인\n",
        "is_null = pd.DataFrame(df1.isnull())\n",
        "# print(is_null)\n",
        "\n",
        "# - 데이터의 결측치가 어디에 있는지 확인 후 0으로 대체하세요.\n",
        "is_fillna = pd.DataFrame(df1.fillna(0))\n",
        "# print(is_fillna)\n",
        "\n",
        "# - 각 데이터 별로 **FCF**의 값을 barplot으로 시각화하세요.\n",
        "df1['FCF'].plot.bar()\n",
        "df2['FCF'].plot.bar()\n",
        "\n",
        "\n",
        "# - 0보다 큰 값인 셀 개수의 총합을 `num1`에, 작은 값인 셀 개수의 총합을 `num2`에 저장하세요'''\n",
        "num1 = df1.FCF[df1['FCF'] > 0].value_counts().sum() + df2.FCF[df2['FCF'] > 0].value_counts().sum()\n",
        "num2 = df1.FCF[df1['FCF'] < 0].value_counts().sum() + df2.FCF[df2['FCF'] < 0].value_counts().sum()\n",
        "\n",
        "df1.to_csv(\"./df1.csv\", index=True)\n",
        "df2.to_csv(\"./df2.csv\", index=True)\n",
        "\n"
      ]
    },
    {
      "cell_type": "markdown",
      "metadata": {
        "id": "DCZ01w4Ps-jO"
      },
      "source": [
        "## 4. Error Handling\n",
        "\n",
        "- 다음의 에러를 고치세요. 결과값은 6912가 나와야합니다.\n"
      ]
    },
    {
      "cell_type": "code",
      "execution_count": null,
      "metadata": {
        "colab": {
          "base_uri": "https://localhost:8080/"
        },
        "id": "NJdISe69ZT7E",
        "outputId": "c1f8e03d-84ab-4326-f2cb-eaf3e5c6a647"
      },
      "outputs": [
        {
          "output_type": "execute_result",
          "data": {
            "text/plain": [
              "6912"
            ]
          },
          "metadata": {},
          "execution_count": 4
        }
      ],
      "source": [
        "a = 1234\n",
        "b = 5678\n",
        "\n",
        "a+b"
      ]
    },
    {
      "cell_type": "markdown",
      "metadata": {
        "id": "KROePyMWQc08"
      },
      "source": [
        "## 5. EDA\n",
        "\n",
        "아래의 코드는 palmer penguin 데이터를 불러올 수 있는 코드입니다.\n",
        "\n",
        "```python\n",
        "import seaborn as sns\n",
        "\n",
        "pp = sns.load_dataset('penguins')\n",
        "```\n",
        "\n",
        "이를 참조하여, `pp`의 `species`와 `sex`변수에 대해서 cross-tabulation을 시행하고, 6개의 값들 중 가장 큰 값을 `num3`에, 가장 작은 값을 `num4`에 저장하세요."
      ]
    },
    {
      "cell_type": "code",
      "execution_count": null,
      "metadata": {
        "id": "GuENkrLISFeR",
        "colab": {
          "base_uri": "https://localhost:8080/"
        },
        "outputId": "0c31633d-95a7-4235-8a9f-20161b8afc2f"
      },
      "outputs": [
        {
          "output_type": "stream",
          "name": "stdout",
          "text": [
            "73 34\n"
          ]
        }
      ],
      "source": [
        "pp = sns.load_dataset('penguins')\n",
        "\n",
        "pp_crosstab = pd.crosstab(index=pp[\"species\"], columns=pp[\"sex\"])\n",
        "\n",
        "num3 = pp_crosstab.max()[0]\n",
        "num4 = pp_crosstab.min()[0]\n",
        "\n",
        "print(num3, num4)\n",
        "\n",
        "\n"
      ]
    },
    {
      "cell_type": "markdown",
      "metadata": {
        "id": "axPHh5t5s124"
      },
      "source": [
        "## 🔥 도전과제 "
      ]
    },
    {
      "cell_type": "markdown",
      "metadata": {
        "id": "Obp0rnowSgF8"
      },
      "source": [
        "### penguins 데이터를 계속 사용합니다.\n",
        "\n",
        "이에 대해 아래의 task들을 시행하세요.\n",
        "\n",
        "- 결측치 처리 (제거)\n",
        "\n",
        "- bill_length_mm에 대해서 qqplot 그리기\n",
        "\n",
        "- island에 대해서 다른 4개의 numerical feature 를 boxplot으로 표현하기\n",
        "\n",
        "- 각 numerical feature에 대해서 summary statistics : mean, sd, Quantiles(1Q, 2Q, 3Q, 4Q)를 계산하세요."
      ]
    },
    {
      "cell_type": "code",
      "execution_count": null,
      "metadata": {
        "id": "0tVL1EYBTS45",
        "colab": {
          "base_uri": "https://localhost:8080/",
          "height": 1000
        },
        "outputId": "fc00c2d5-29c6-46dd-a728-34e9127b741f"
      },
      "outputs": [
        {
          "output_type": "stream",
          "name": "stderr",
          "text": [
            "/usr/local/lib/python3.7/dist-packages/statsmodels/tools/_testing.py:19: FutureWarning: pandas.util.testing is deprecated. Use the functions in the public API at pandas.testing instead.\n",
            "  import pandas.util.testing as tm\n"
          ]
        },
        {
          "output_type": "stream",
          "name": "stdout",
          "text": [
            "    species     island  bill_length_mm  bill_depth_mm  flipper_length_mm  \\\n",
            "0    Adelie  Torgersen            39.1           18.7              181.0   \n",
            "1    Adelie  Torgersen            39.5           17.4              186.0   \n",
            "2    Adelie  Torgersen            40.3           18.0              195.0   \n",
            "4    Adelie  Torgersen            36.7           19.3              193.0   \n",
            "5    Adelie  Torgersen            39.3           20.6              190.0   \n",
            "..      ...        ...             ...            ...                ...   \n",
            "338  Gentoo     Biscoe            47.2           13.7              214.0   \n",
            "340  Gentoo     Biscoe            46.8           14.3              215.0   \n",
            "341  Gentoo     Biscoe            50.4           15.7              222.0   \n",
            "342  Gentoo     Biscoe            45.2           14.8              212.0   \n",
            "343  Gentoo     Biscoe            49.9           16.1              213.0   \n",
            "\n",
            "     body_mass_g     sex  \n",
            "0         3750.0    Male  \n",
            "1         3800.0  Female  \n",
            "2         3250.0  Female  \n",
            "4         3450.0  Female  \n",
            "5         3650.0    Male  \n",
            "..           ...     ...  \n",
            "338       4925.0  Female  \n",
            "340       4850.0  Female  \n",
            "341       5750.0    Male  \n",
            "342       5200.0  Female  \n",
            "343       5400.0    Male  \n",
            "\n",
            "[333 rows x 7 columns]\n"
          ]
        },
        {
          "output_type": "display_data",
          "data": {
            "image/png": "[encoded data removed]",
            "text/plain": [
              "<Figure size 432x288 with 1 Axes>"
            ]
          },
          "metadata": {
            "needs_background": "light"
          }
        },
        {
          "output_type": "display_data",
          "data": {
            "image/png": "[encoded data removed]",
            "text/plain": [
              "<Figure size 432x288 with 1 Axes>"
            ]
          },
          "metadata": {
            "needs_background": "light"
          }
        },
        {
          "output_type": "stream",
          "name": "stdout",
          "text": [
            "summary statistics : bill_length_mm         43.992793\n",
            "bill_depth_mm          17.164865\n",
            "flipper_length_mm     200.966967\n",
            "body_mass_g          4207.057057\n",
            "dtype: float64 bill_length_mm         5.468668\n",
            "bill_depth_mm          1.969235\n",
            "flipper_length_mm     14.015765\n",
            "body_mass_g          805.215802\n",
            "dtype: float64 bill_length_mm         44.5\n",
            "bill_depth_mm          17.3\n",
            "flipper_length_mm     197.0\n",
            "body_mass_g          4050.0\n",
            "Name: 0.5, dtype: float64\n"
          ]
        }
      ],
      "source": [
        "import pandas as pd\n",
        "import openpyxl\n",
        "import seaborn as sns\n",
        "\n",
        "import statsmodels.api as sm \n",
        "import matplotlib.pyplot as plt\n",
        "\n",
        "pp = sns.load_dataset('penguins')\n",
        "pp_thresh = pp.dropna()\n",
        "print(pp_thresh)\n",
        "\n",
        "qq_plot = sm.qqplot(pp_thresh['bill_length_mm'])\n",
        "plt.show()\n",
        "\n",
        "green_diamond = dict(markerfacecolor='g', marker='D')\n",
        "\n",
        "data = [pp_thresh['bill_length_mm'], pp_thresh['bill_depth_mm'], pp_thresh['flipper_length_mm'], pp_thresh['body_mass_g']]\n",
        "plt.boxplot(data, flierprops=green_diamond)\n",
        "plt.title('island')\n",
        "plt.show()\n",
        "\n",
        "pp_mean = pp_thresh[['bill_length_mm','bill_depth_mm','flipper_length_mm','body_mass_g']].mean()\n",
        "pp_sd = pp_thresh[['bill_length_mm','bill_depth_mm','flipper_length_mm','body_mass_g']].std()\n",
        "pp_quantiles =pp_thresh[['bill_length_mm','bill_depth_mm','flipper_length_mm','body_mass_g']].quantile()\n",
        "print('summary statistics :',pp_mean, pp_sd, pp_quantiles)\n",
        "\n",
        "\n",
        "#결측치 처리 (제거) @\n",
        "#bill_length_mm에 대해서 qqplot 그리기\n",
        "#island에 대해서 다른 4개의 numerical feature 를 boxplot으로 표현하기\n",
        "#각 numerical feature에 대해서 summary statistics : mean, sd, Quantiles(1Q, 2Q, 3Q, 4Q)를 계산하세요\n",
        "\n"
      ]
    }
  ],
  "metadata": {
    "colab": {
      "name": "n111a-eda.ipynb [1차 제출]",
      "provenance": [],
      "include_colab_link": true
    },
    "kernelspec": {
      "display_name": "Python 3",
      "language": "python",
      "name": "python3"
    },
    "language_info": {
      "codemirror_mode": {
        "name": "ipython",
        "version": 3
      },
      "file_extension": ".py",
      "mimetype": "text/x-python",
      "name": "python",
      "nbconvert_exporter": "python",
      "pygments_lexer": "ipython3",
      "version": "3.9.4"
    }
  },
  "nbformat": 4,
  "nbformat_minor": 0
}